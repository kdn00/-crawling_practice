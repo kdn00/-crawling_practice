{
 "cells": [
  {
   "cell_type": "code",
   "execution_count": null,
   "id": "98100093",
   "metadata": {},
   "outputs": [],
   "source": [
    "from flask import Flask\n",
    "app = Flask(__name__)\n",
    "\n",
    "@app.route('/')\n",
    "def hello_world():\n",
    "    return 'Hello World!'\n",
    "\n",
    "if __name__ == '__main__':\n",
    "    app.run()"
   ]
  },
  {
   "cell_type": "code",
   "execution_count": 1,
   "id": "0f52d370",
   "metadata": {},
   "outputs": [
    {
     "name": "stdout",
     "output_type": "stream",
     "text": [
      " * Serving Flask app \"__main__\" (lazy loading)\n",
      " * Environment: production\n",
      "\u001b[31m   WARNING: This is a development server. Do not use it in a production deployment.\u001b[0m\n",
      "\u001b[2m   Use a production WSGI server instead.\u001b[0m\n",
      " * Debug mode: off\n"
     ]
    },
    {
     "name": "stderr",
     "output_type": "stream",
     "text": [
      " * Running on http://127.0.0.1:5000/ (Press CTRL+C to quit)\n",
      "127.0.0.1 - - [22/Nov/2022 17:30:12] \"GET /tospring HTTP/1.1\" 200 -\n",
      "127.0.0.1 - - [22/Nov/2022 17:30:15] \"GET /tospring HTTP/1.1\" 200 -\n",
      "127.0.0.1 - - [22/Nov/2022 17:34:35] \"GET /tospring HTTP/1.1\" 200 -\n",
      "127.0.0.1 - - [22/Nov/2022 17:39:02] \"GET /tospring HTTP/1.1\" 200 -\n"
     ]
    }
   ],
   "source": [
    "from flask import Flask #간단히 플라스크 서버를 만든다\n",
    "\n",
    "import urllib.request\n",
    "\n",
    "app = Flask(__name__)\n",
    "\n",
    "@app.route(\"/tospring\")\n",
    "def spring():\n",
    "    \n",
    "    return \"동현씨 아자아자 파이팅~!~!!~~!\"\n",
    "    \n",
    "    \n",
    "if __name__ == '__main__':\n",
    "    app.run(debug=False,host=\"127.0.0.1\",port=5000)"
   ]
  },
  {
   "cell_type": "code",
   "execution_count": null,
   "id": "be192493",
   "metadata": {},
   "outputs": [],
   "source": []
  },
  {
   "cell_type": "code",
   "execution_count": null,
   "id": "b7535dc2",
   "metadata": {},
   "outputs": [],
   "source": []
  },
  {
   "cell_type": "markdown",
   "id": "0b8df764",
   "metadata": {},
   "source": [
    "## 중계서버 코드"
   ]
  },
  {
   "cell_type": "code",
   "execution_count": null,
   "id": "d4ac62bc",
   "metadata": {},
   "outputs": [],
   "source": [
    "from flask import Flask\n",
    "app = Flask(__name__)\n",
    "\n",
    "@app.route('/upload', methods = ['GET', 'POST'])\n",
    "def file_upload():\n",
    "    if request.method == 'POST': # POST 방식 처리\n",
    "        f = request.files['file1'] # 받아온 파일 객체 생성\n",
    " \n",
    "        s_filename = secure_filename(f.filename) # 파일명 저장\n",
    "        file_dir = 'uploads/' + s_filename # 파일을 저장하기 위한 경로 지정\n",
    " \n",
    "        f.save('static/uploads/' + s_filename) # 파일 저장\n",
    "        files = os.listdir(\"static/uploads\")\n",
    " \n",
    "        upload = {'image': open('static/uploads/' + s_filename, 'rb')} # 업로드하기위한 파일\n",
    "        res = requests.post('http://127.0.0.1:81/receive', files=upload).json() # JSON 포맷, POST 형식으로 해당 URL에 파일 전송\n",
    "        machineResult = res['cal_result'] # 받아온 JSON 형식의 response를 처리함\n",
    " \n",
    "        # 데이터베이스 연결을 위한 connect 생성\n",
    "        conn = mysql.connect()\n",
    "        cursor = conn.cursor()\n",
    "        # 파일명과 파일경로를 데이터베이스에 저장함\n",
    "        sql = \"INSERT INTO images (image_name, image_dir) VALUES ('%s', '%s')\" % (s_filename, file_dir)\n",
    "        cursor.execute(sql) # sql문 입력\n",
    "        data = cursor.fetchall() # 처리 결과\n",
    " \n",
    "        if not data:\n",
    "            conn.commit() # 수정 내용을 저장함\n",
    "            return jsonify({\"cal_result\": machineResult}) # 결과 값 반환\n",
    " \n",
    "        else:\n",
    "            conn.rollback() # 수정 내용을 저장하지 않음\n",
    "            return 'upload failed'\n",
    " \n",
    "        # 데이터베이스와 연결 종료\n",
    "        cursor.close()\n",
    "        conn.close()"
   ]
  },
  {
   "cell_type": "markdown",
   "id": "56e4028b",
   "metadata": {},
   "source": [
    "## 머신러닝 서버 코드"
   ]
  },
  {
   "cell_type": "code",
   "execution_count": null,
   "id": "b1994608",
   "metadata": {},
   "outputs": [],
   "source": [
    "@app.route('/receive', methods=['GET', 'POST'])\n",
    "def receive():\n",
    "    if request.method == 'POST':\n",
    "        f = request.files['image'] # 보낸 파일을 받아옴\n",
    "        f.save('static/images/' + secure_filename(f.filename)) # 해당 파일 저장\n",
    "        files = os.listdir(\"static/images\")\n",
    " \n",
    "        remove_background.remove('static/images/' + secure_filename(f.filename)) # 배경 제거\n",
    " \n",
    "        # 머신러닝 결과를 변수에 저장\n",
    "        predition = model.predict_food_transfer(model_transfer, test_transform, class_names, 'static/images/result.jpg')\n",
    " \n",
    "        os.remove('static/images/' + secure_filename(f.filename))\n",
    " \n",
    "    return jsonify({\"cal_result\": predition}) # 머신러닝 결과 반환"
   ]
  },
  {
   "cell_type": "code",
   "execution_count": null,
   "id": "70f90286",
   "metadata": {},
   "outputs": [],
   "source": []
  },
  {
   "cell_type": "code",
   "execution_count": null,
   "id": "bf2d065a",
   "metadata": {},
   "outputs": [],
   "source": []
  },
  {
   "cell_type": "markdown",
   "id": "40164fc1",
   "metadata": {},
   "source": [
    "### 클라이언트 - 서버 - 서버(ai 계산)의 구조로 서비스를 만들려고 한다.\n",
    "\n",
    "### 그래서 가장 먼저 클라이언트에서 서버로 이미지를 전송하는 기능을 구현했다."
   ]
  },
  {
   "cell_type": "code",
   "execution_count": 1,
   "id": "671b17de",
   "metadata": {},
   "outputs": [
    {
     "ename": "ModuleNotFoundError",
     "evalue": "No module named 'flaskext'",
     "output_type": "error",
     "traceback": [
      "\u001b[1;31m---------------------------------------------------------------------------\u001b[0m",
      "\u001b[1;31mModuleNotFoundError\u001b[0m                       Traceback (most recent call last)",
      "Input \u001b[1;32mIn [1]\u001b[0m, in \u001b[0;36m<cell line: 2>\u001b[1;34m()\u001b[0m\n\u001b[0;32m      1\u001b[0m \u001b[38;5;28;01mfrom\u001b[39;00m \u001b[38;5;21;01mflask\u001b[39;00m \u001b[38;5;28;01mimport\u001b[39;00m Flask, render_template, request, redirect, url_for\n\u001b[1;32m----> 2\u001b[0m \u001b[38;5;28;01mfrom\u001b[39;00m \u001b[38;5;21;01mflaskext\u001b[39;00m\u001b[38;5;21;01m.\u001b[39;00m\u001b[38;5;21;01mmysql\u001b[39;00m \u001b[38;5;28;01mimport\u001b[39;00m MySQL\n\u001b[0;32m      3\u001b[0m \u001b[38;5;28;01mfrom\u001b[39;00m \u001b[38;5;21;01mwerkzeug\u001b[39;00m\u001b[38;5;21;01m.\u001b[39;00m\u001b[38;5;21;01mutils\u001b[39;00m \u001b[38;5;28;01mimport\u001b[39;00m secure_filename\n\u001b[0;32m      5\u001b[0m \u001b[38;5;28;01mimport\u001b[39;00m \u001b[38;5;21;01mos\u001b[39;00m\n",
      "\u001b[1;31mModuleNotFoundError\u001b[0m: No module named 'flaskext'"
     ]
    }
   ],
   "source": [
    "from flask import Flask, render_template, request, redirect, url_for\n",
    "from flaskext.mysql import MySQL\n",
    "from werkzeug.utils import secure_filename\n",
    " \n",
    "import os\n",
    " \n",
    "mysql = MySQL()\n",
    "app = Flask(__name__)\n",
    " \n",
    "# 데이터베이스 값 설정\n",
    "app.config['MYSQL_DATABASE_USER'] = 'root'\n",
    "app.config['MYSQL_DATABASE_PASSWORD'] = '0000'\n",
    "app.config['MYSQL_DATABASE_DB'] = 'image'\n",
    "app.config['MYSQL_DATABASE_HOST'] = 'localhost'\n",
    "app.secret_key = \"ABCDEFG\"\n",
    "mysql.init_app(app)\n",
    " \n",
    "@app.route('/', methods=['GET', 'POST'])\n",
    "def main():\n",
    "    return render_template('main.html')\n",
    " \n",
    "@app.route('/fileUpload', methods = ['GET', 'POST'])\n",
    "def file_upload():\n",
    "    if request.method == 'POST':\n",
    "        f = request.files['file']\n",
    "        f.save('static/uploads/' + secure_filename(f.filename))\n",
    "        files = os.listdir(\"static/uploads\")\n",
    " \n",
    "        conn = mysql.connect()\n",
    "        cursor = conn.cursor()\n",
    "        # 파일명과 파일경로를 데이터베이스에 저장함\n",
    "        sql = \"INSERT INTO images (image_name, image_dir) VALUES ('%s', '%s')\" % (secure_filename(f.filename), 'uploads/'+secure_filename(f.filename))\n",
    "        cursor.execute(sql)\n",
    "        data = cursor.fetchall()\n",
    " \n",
    "        if not data:\n",
    "            conn.commit()\n",
    "            return redirect(url_for(\"main\"))\n",
    " \n",
    "        else:\n",
    "            conn.rollback()\n",
    "            return 'upload failed'\n",
    " \n",
    "        cursor.close()\n",
    "        conn.close()\n",
    " \n",
    "@app.route('/view', methods = ['GET', 'POST'])\n",
    "def view():\n",
    "    conn = mysql.connect()  # DB와 연결\n",
    "    cursor = conn.cursor()  # connection으로부터 cursor 생성 (데이터베이스의 Fetch 관리)\n",
    "    sql = \"SELECT image_name, image_dir FROM images\"  # 실행할 SQL문\n",
    "    cursor.execute(sql)  # 메소드로 전달해 명령문을 실행\n",
    "    data = cursor.fetchall()  # 실행한 결과 데이터를 꺼냄\n",
    " \n",
    "    data_list = []\n",
    " \n",
    "    for obj in data:  # 튜플 안의 데이터를 하나씩 조회해서\n",
    "        data_dic = {  # 딕셔너리 형태로\n",
    "            # 요소들을 하나씩 넣음\n",
    "            'name': obj[0],\n",
    "            'dir': obj[1]\n",
    "        }\n",
    "        data_list.append(data_dic)  # 완성된 딕셔너리를 list에 넣음\n",
    " \n",
    "    cursor.close()\n",
    "    conn.close()\n",
    " \n",
    "    return render_template('view.html', data_list=data_list)  # html을 렌더하며 DB에서 받아온 값들을 넘김\n",
    " \n",
    "if __name__ == '__main__':\n",
    "    app.run(port=80)"
   ]
  },
  {
   "cell_type": "code",
   "execution_count": null,
   "id": "42d320a4",
   "metadata": {},
   "outputs": [],
   "source": []
  },
  {
   "cell_type": "code",
   "execution_count": null,
   "id": "6fd5b404",
   "metadata": {},
   "outputs": [],
   "source": []
  },
  {
   "cell_type": "code",
   "execution_count": null,
   "id": "d15f68e0",
   "metadata": {},
   "outputs": [],
   "source": []
  }
 ],
 "metadata": {
  "kernelspec": {
   "display_name": "Python 3 (ipykernel)",
   "language": "python",
   "name": "python3"
  },
  "language_info": {
   "codemirror_mode": {
    "name": "ipython",
    "version": 3
   },
   "file_extension": ".py",
   "mimetype": "text/x-python",
   "name": "python",
   "nbconvert_exporter": "python",
   "pygments_lexer": "ipython3",
   "version": "3.9.12"
  }
 },
 "nbformat": 4,
 "nbformat_minor": 5
}
